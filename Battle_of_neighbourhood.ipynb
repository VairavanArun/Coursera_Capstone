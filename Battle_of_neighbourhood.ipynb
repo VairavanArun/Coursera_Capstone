{
  "nbformat": 4,
  "nbformat_minor": 0,
  "metadata": {
    "colab": {
      "name": "Battle_of_neighbourhood.ipynb",
      "provenance": [],
      "authorship_tag": "ABX9TyN6AWllu+XQnU9z7aAjVT0M"
    },
    "kernelspec": {
      "name": "python3",
      "display_name": "Python 3"
    }
  },
  "cells": [
    {
      "cell_type": "markdown",
      "metadata": {
        "id": "8wZthVGhBEzK",
        "colab_type": "text"
      },
      "source": [
        "# **Final capstone project** \n",
        "## This notebook includes the code used for the final capstone project in IBM datascience specialisation\n",
        "### *This project is based on fidning the best neighbourhood near by to our work place  that is almost similar to the present area where we live*"
      ]
    },
    {
      "cell_type": "code",
      "metadata": {
        "id": "u5mhwDTsCQhy",
        "colab_type": "code",
        "colab": {}
      },
      "source": [
        "import pandas as pd\n",
        "import numpy as np"
      ],
      "execution_count": 1,
      "outputs": []
    },
    {
      "cell_type": "code",
      "metadata": {
        "id": "papQoLe4CTY9",
        "colab_type": "code",
        "colab": {
          "base_uri": "https://localhost:8080/",
          "height": 34
        },
        "outputId": "bda38f40-3625-4ed6-c085-3a4bd3abd7a2"
      },
      "source": [
        "print('Hello Capstone Project Course!')"
      ],
      "execution_count": 2,
      "outputs": [
        {
          "output_type": "stream",
          "text": [
            "Hello Capstone Project Course!\n"
          ],
          "name": "stdout"
        }
      ]
    },
    {
      "cell_type": "code",
      "metadata": {
        "id": "UI8mI0CuCgiB",
        "colab_type": "code",
        "colab": {}
      },
      "source": [
        ""
      ],
      "execution_count": null,
      "outputs": []
    }
  ]
}